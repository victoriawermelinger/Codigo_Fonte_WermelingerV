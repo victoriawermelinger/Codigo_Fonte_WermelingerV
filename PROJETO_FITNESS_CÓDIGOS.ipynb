{
  "nbformat": 4,
  "nbformat_minor": 0,
  "metadata": {
    "colab": {
      "provenance": [],
      "authorship_tag": "ABX9TyOqp2etOjvrNkz2WhGStYP9",
      "include_colab_link": true
    },
    "kernelspec": {
      "name": "python3",
      "display_name": "Python 3"
    },
    "language_info": {
      "name": "python"
    }
  },
  "cells": [
    {
      "cell_type": "markdown",
      "metadata": {
        "id": "view-in-github",
        "colab_type": "text"
      },
      "source": [
        "<a href=\"https://colab.research.google.com/github/victoriawermelinger/Codigo_Fonte_WermelingerV/blob/main/PROJETO_FITNESS_C%C3%93DIGOS.ipynb\" target=\"_parent\"><img src=\"https://colab.research.google.com/assets/colab-badge.svg\" alt=\"Open In Colab\"/></a>"
      ]
    },
    {
      "cell_type": "code",
      "execution_count": 1,
      "metadata": {
        "colab": {
          "base_uri": "https://localhost:8080/"
        },
        "id": "7i6lGE_nbMvQ",
        "outputId": "30a996c3-6b1f-4dc3-fb08-a0128135c327"
      },
      "outputs": [
        {
          "output_type": "stream",
          "name": "stdout",
          "text": [
            "  Carimbo de data/hora Data (00/00/0000)  Peso (00.0)  \\\n",
            "0  14/06/2025 10:52:36        02/01/2025         92.7   \n",
            "1  14/06/2025 11:01:13        13/01/2025         90.4   \n",
            "2  14/06/2025 11:02:50        14/01/2025         90.8   \n",
            "3  14/06/2025 11:15:28        15/01/2025         90.5   \n",
            "4  14/06/2025 11:17:09        16/01/2025         91.3   \n",
            "\n",
            "   IMC (Indice de Massa Corporal) (00.0)  Taxa de Gordura Corporal (00.0) %  \\\n",
            "0                                   32.5                               44.5   \n",
            "1                                   31.7                               43.5   \n",
            "2                                   31.8                               43.5   \n",
            "3                                   31.7                               43.2   \n",
            "4                                   31.6                               43.1   \n",
            "\n",
            "   Kg Massa Gorda (00.0)  Kg Massa Livre de Gordura (00.0)  \\\n",
            "0                   41.3                              51.4   \n",
            "1                   39.3                              51.1   \n",
            "2                   39.5                              51.3   \n",
            "3                   39.1                              51.4   \n",
            "4                   39.4                              51.9   \n",
            "\n",
            "   Massa Muscular (00.0)  Taxa Massa Muscular (00.0)%  \\\n",
            "0                   47.4                         51.1   \n",
            "1                   47.1                         52.1   \n",
            "2                   47.3                         52.1   \n",
            "3                   47.4                         52.4   \n",
            "4                   47.9                         52.5   \n",
            "\n",
            "   Massa Muscular Esqueletica (00.0)%  Gordura Subcutânea (00.0)%  \\\n",
            "0                                30.2                        31.7   \n",
            "1                                31.2                        30.9   \n",
            "2                                31.5                        30.9   \n",
            "3                                31.9                        30.7   \n",
            "4                                32.2                        30.6   \n",
            "\n",
            "   Gordura Visceral (00.0)  \n",
            "0                     12.0  \n",
            "1                     11.5  \n",
            "2                     11.5  \n",
            "3                     11.5  \n",
            "4                     11.5  \n"
          ]
        }
      ],
      "source": [
        "import pandas as pd\n",
        "\n",
        "# Substitua 'seu_arquivo.csv' pelo caminho do seu arquivo CSV no Google Drive\n",
        "# Certifique-se de que o Colab está conectado ao Google Drive e que você\n",
        "# autorizou o acesso.\n",
        "try:\n",
        "    df_projeto = pd.read_csv('/content/PROJETO.FITNESS (respostas) -  Código Carioca Corporal.csv')\n",
        "\n",
        "    # Agora você pode trabalhar com o DataFrame 'df'\n",
        "    # Por exemplo, para exibir as primeiras 5 linhas:\n",
        "    print(df_projeto.head())\n",
        "\n",
        "except FileNotFoundError:\n",
        "    print(\"Erro: O arquivo não foi encontrado. Verifique o caminho do arquivo.\")\n",
        "except Exception as e:\n",
        "    print(f\"Ocorreu um erro ao ler o arquivo: {e}\")\n",
        "\n"
      ]
    },
    {
      "cell_type": "code",
      "source": [
        "# prompt: Gostaria de transforma a coluna carimbo de hora em Código_ID\n",
        "\n",
        "# Transforma a coluna 'Carimbo de data/hora' em 'Código_ID'\n",
        "# Remova a coluna original 'Carimbo de data/hora'\n",
        "df_projeto['Código_ID'] = df_projeto['Carimbo de data/hora']\n",
        "df_projeto = df_projeto.drop(columns=['Carimbo de data/hora'])\n",
        "\n",
        "# Exibir as primeiras 5 linhas com a nova coluna 'Código_ID'\n",
        "print(df_projeto.head())"
      ],
      "metadata": {
        "colab": {
          "base_uri": "https://localhost:8080/"
        },
        "id": "lrMkHJ9Gblii",
        "outputId": "1510fff5-3e1e-4fc0-92dc-de5b8367f67d"
      },
      "execution_count": 2,
      "outputs": [
        {
          "output_type": "stream",
          "name": "stdout",
          "text": [
            "  Data (00/00/0000)  Peso (00.0)  IMC (Indice de Massa Corporal) (00.0)  \\\n",
            "0        02/01/2025         92.7                                   32.5   \n",
            "1        13/01/2025         90.4                                   31.7   \n",
            "2        14/01/2025         90.8                                   31.8   \n",
            "3        15/01/2025         90.5                                   31.7   \n",
            "4        16/01/2025         91.3                                   31.6   \n",
            "\n",
            "   Taxa de Gordura Corporal (00.0) %  Kg Massa Gorda (00.0)  \\\n",
            "0                               44.5                   41.3   \n",
            "1                               43.5                   39.3   \n",
            "2                               43.5                   39.5   \n",
            "3                               43.2                   39.1   \n",
            "4                               43.1                   39.4   \n",
            "\n",
            "   Kg Massa Livre de Gordura (00.0)  Massa Muscular (00.0)  \\\n",
            "0                              51.4                   47.4   \n",
            "1                              51.1                   47.1   \n",
            "2                              51.3                   47.3   \n",
            "3                              51.4                   47.4   \n",
            "4                              51.9                   47.9   \n",
            "\n",
            "   Taxa Massa Muscular (00.0)%  Massa Muscular Esqueletica (00.0)%  \\\n",
            "0                         51.1                                30.2   \n",
            "1                         52.1                                31.2   \n",
            "2                         52.1                                31.5   \n",
            "3                         52.4                                31.9   \n",
            "4                         52.5                                32.2   \n",
            "\n",
            "   Gordura Subcutânea (00.0)%  Gordura Visceral (00.0)            Código_ID  \n",
            "0                        31.7                     12.0  14/06/2025 10:52:36  \n",
            "1                        30.9                     11.5  14/06/2025 11:01:13  \n",
            "2                        30.9                     11.5  14/06/2025 11:02:50  \n",
            "3                        30.7                     11.5  14/06/2025 11:15:28  \n",
            "4                        30.6                     11.5  14/06/2025 11:17:09  \n"
          ]
        }
      ]
    },
    {
      "cell_type": "code",
      "source": [
        "\n",
        "# Enumerate 'Código_ID' to be a primary key\n",
        "df_projeto['Código_ID'] = range(1, len(df_projeto) + 1)\n",
        "\n",
        "# Set 'Código_ID' as the index (optional, but often useful for primary keys)\n",
        "df_projeto = df_projeto.set_index('Código_ID')\n",
        "\n",
        "# Display the first 5 rows with the new 'Código_ID' as index\n",
        "print(df_projeto.head())"
      ],
      "metadata": {
        "colab": {
          "base_uri": "https://localhost:8080/"
        },
        "id": "O_cP871Yb3Km",
        "outputId": "d2506e5c-36a2-4dfc-b268-2501a04062cd"
      },
      "execution_count": 3,
      "outputs": [
        {
          "output_type": "stream",
          "name": "stdout",
          "text": [
            "          Data (00/00/0000)  Peso (00.0)  \\\n",
            "Código_ID                                  \n",
            "1                02/01/2025         92.7   \n",
            "2                13/01/2025         90.4   \n",
            "3                14/01/2025         90.8   \n",
            "4                15/01/2025         90.5   \n",
            "5                16/01/2025         91.3   \n",
            "\n",
            "           IMC (Indice de Massa Corporal) (00.0)  \\\n",
            "Código_ID                                          \n",
            "1                                           32.5   \n",
            "2                                           31.7   \n",
            "3                                           31.8   \n",
            "4                                           31.7   \n",
            "5                                           31.6   \n",
            "\n",
            "           Taxa de Gordura Corporal (00.0) %  Kg Massa Gorda (00.0)  \\\n",
            "Código_ID                                                             \n",
            "1                                       44.5                   41.3   \n",
            "2                                       43.5                   39.3   \n",
            "3                                       43.5                   39.5   \n",
            "4                                       43.2                   39.1   \n",
            "5                                       43.1                   39.4   \n",
            "\n",
            "           Kg Massa Livre de Gordura (00.0)  Massa Muscular (00.0)  \\\n",
            "Código_ID                                                            \n",
            "1                                      51.4                   47.4   \n",
            "2                                      51.1                   47.1   \n",
            "3                                      51.3                   47.3   \n",
            "4                                      51.4                   47.4   \n",
            "5                                      51.9                   47.9   \n",
            "\n",
            "           Taxa Massa Muscular (00.0)%  Massa Muscular Esqueletica (00.0)%  \\\n",
            "Código_ID                                                                    \n",
            "1                                 51.1                                30.2   \n",
            "2                                 52.1                                31.2   \n",
            "3                                 52.1                                31.5   \n",
            "4                                 52.4                                31.9   \n",
            "5                                 52.5                                32.2   \n",
            "\n",
            "           Gordura Subcutânea (00.0)%  Gordura Visceral (00.0)  \n",
            "Código_ID                                                       \n",
            "1                                31.7                     12.0  \n",
            "2                                30.9                     11.5  \n",
            "3                                30.9                     11.5  \n",
            "4                                30.7                     11.5  \n",
            "5                                30.6                     11.5  \n"
          ]
        }
      ]
    }
  ]
}